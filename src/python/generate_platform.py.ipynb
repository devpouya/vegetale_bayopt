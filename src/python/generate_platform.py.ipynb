{
 "cells": [
  {
   "cell_type": "code",
   "execution_count": 1,
   "metadata": {
    "pycharm": {
     "is_executing": false
    }
   },
   "outputs": [],
   "source": [
    "import numpy as np\n",
    "import matplotlib.pyplot as plt\n",
    "import os, sys\n",
    "import pickle as pk\n",
    "import time\n",
    "import pandas as pd\n",
    "\n",
    "import utils as ut\n",
    "import time\n",
    "import math\n",
    "import copy\n",
    "from sklearn.preprocessing import normalize, MinMaxScaler\n",
    "from itertools import chain\n",
    "from GPyOpt.methods import BayesianOptimization\n",
    "import scipy\n",
    "from functools import partial"
   ]
  },
  {
   "cell_type": "code",
   "execution_count": 2,
   "metadata": {
    "pycharm": {
     "is_executing": false,
     "name": "#%%\n"
    }
   },
   "outputs": [
    {
     "name": "stdout",
     "text": [
      "['cantilever_max', 'occlusion_sun', 'outline_lengths_0', 'outline_lengths_1', 'outline_lengths_2', 'outline_lengths_3', 'outline_lengths_4', 'surface_area_total', 'buildable', 'surface_areas_0', 'surface_areas_1', 'surface_areas_2', 'surface_areas_3', 'surface_areas_4', 'outline_length_total', 'supports_count', 'outlines_bleps', 'occlusion_rain', 'parcel_intersection', 'supports_problems', 'columns_max_length']\nNo nans! ¯\\_(ツ)_/¯\n"
     ],
     "output_type": "stream"
    }
   ],
   "source": [
    "min_max_scaler = MinMaxScaler()\n",
    "\n",
    "# constants\n",
    "# rhino uv nurbs +1 (even numbers required?\n",
    "u = 8 #u = number of points\n",
    "v = 5 #v = number of platforms\n",
    "#f_experiment = '200616'\n",
    "curr_dir_repo = os.getcwd().split('/src/python')[0]\n",
    "dataset_dir = curr_dir_repo + '/data/' #+ f_experiment\n",
    "results_dir = curr_dir_repo + '/results/' #+ f_experiment\n",
    "\n",
    "fn_attr_ranges = 'ranges_attrib.pkl'\n",
    "\n",
    "###\n",
    "# THE NOTATION IS\n",
    "# W for geometries: the points, either on xyz or polar, for each of the platforms\n",
    "# X for desing attributes: final desired characteristics, like rain occlusion,\n",
    "# sun occlusion, surface, etc.\n",
    "\n",
    "flag_polar = True\n",
    "\n",
    "fname = os.path.join(dataset_dir, 'data_labels_all_200706.pkl')\n",
    "list_all_dicts = pk.load(open(fname, 'rb'))\n",
    "\n",
    "# %%\n",
    "\n",
    "flag_GH_xyz_polar = 0\n",
    "flag_out_xyz_polar = 0\n",
    "if flag_polar:\n",
    "    flag_GH_xyz_polar = 1\n",
    "    flag_out_xyz_polar = 1\n",
    "\n",
    "w_train_red, bottom_top_heights = ut.gh_to_script(list_all_dicts, v, u, flag_GH_xyz_polar=flag_GH_xyz_polar,\n",
    "                                                  flag_out_xyz_polar=flag_out_xyz_polar)\n",
    "\n",
    "# %%\n",
    "# Import and preprocess y_train: design attributes\n",
    "\n",
    "\n",
    "# Attributes to use\n",
    "list_attrib = ['occlusion_rain', 'occlusion_sun',\n",
    "               'outline_lengths_0', 'outline_lengths_1', 'outline_lengths_2', 'outline_lengths_3', 'outline_lengths_4',\n",
    "               'surface_areas_0', 'surface_areas_1', 'surface_areas_2', 'surface_areas_3', 'surface_areas_4']\n",
    "tot_area_perim_attr = ['surface_area_total','outline_length_total']\n",
    "x_train = ut.ghlabels_to_script(list_all_dicts, list_attrib, flag_all_df=True)\n",
    "\n",
    "all_attributes = list(x_train.columns)\n",
    "print(all_attributes)\n",
    "\n",
    "\n",
    "num_attr = len(list_attrib) # number of attributes selected for training\n",
    "\n",
    "#print(\"Attributes\",list_attrib)\n",
    "\n",
    "total_area_perim  = np.asarray(x_train[tot_area_perim_attr])\n",
    "total_area_perim = min_max_scaler.fit_transform(total_area_perim)\n",
    "x_train_red = np.asarray(x_train[list_attrib])\n",
    "\n",
    "w_nans, ind_not_nanw = ut.check_rows_nan(w_train_red)\n",
    "x_nans, ind_not_nanx = ut.check_rows_nan(x_train_red)\n",
    "\n",
    "if len(np.union1d(w_nans, x_nans)):\n",
    "    ind_not_nan = np.intersect1d(ind_not_nanw, ind_not_nanx)\n",
    "    print('Reducing samples from {} to {}'.format(len(w_train_red), len(ind_not_nan)))\n",
    "    w_train_red = w_train_red[ind_not_nan, :]\n",
    "    x_train_red = x_train_red[ind_not_nan, :]\n",
    "else:\n",
    "    print('No nans! ¯\\_(ツ)_/¯')\n",
    "\n",
    "\n",
    "data_dir_loop = '/Users/pouya/vegetale_bayopt'\n",
    "str_save = 'It1'\n",
    "flag_save_files = True\n",
    "max_time = 3600\n",
    "output_attrib = ['occlusion_rain', 'occlusion_sun']\n",
    "\n"
   ]
  },
  {
   "cell_type": "code",
   "execution_count": 3,
   "metadata": {
    "pycharm": {
     "is_executing": false,
     "name": "#%%\n"
    }
   },
   "outputs": [],
   "source": [
    "#x_train_red\n",
    "#w_train_red\n",
    "\n",
    "# get each platform from the data, 5 per row\n",
    "\n",
    "w_xyrad = w_train_red[:,:50]\n",
    "w_heights = w_train_red[:,50:]\n",
    "\n",
    "w_xyrad = w_xyrad.reshape(w_xyrad.shape[0]*w_xyrad.shape[1],1)\n",
    "w_heights = w_heights.reshape(w_heights.shape[0]*w_heights.shape[1],1)"
   ]
  },
  {
   "cell_type": "code",
   "execution_count": 4,
   "metadata": {
    "pycharm": {
     "is_executing": false,
     "name": "#%%\n"
    }
   },
   "outputs": [],
   "source": [
    "w_xyrad = np.reshape(w_xyrad, (-1, 10))\n"
   ]
  },
  {
   "cell_type": "code",
   "execution_count": 6,
   "metadata": {
    "pycharm": {
     "is_executing": false,
     "name": "#%%\n"
    }
   },
   "outputs": [
    {
     "traceback": [
      "\u001b[0;31m---------------------------------------------------------------------------\u001b[0m",
      "\u001b[0;31mIndexError\u001b[0m                                Traceback (most recent call last)",
      "\u001b[0;32m<ipython-input-6-3f7a30caf0db>\u001b[0m in \u001b[0;36m<module>\u001b[0;34m\u001b[0m\n\u001b[0;32m----> 1\u001b[0;31m perims = np.asarray(x_train_red[['outline_lengths_0', 'outline_lengths_1', \n\u001b[0m\u001b[1;32m      2\u001b[0m                             'outline_lengths_2', 'outline_lengths_3', 'outline_lengths_4']])\n\u001b[1;32m      3\u001b[0m areas = np.asarray(x_train_red[['surface_areas_0', 'surface_areas_1', \n\u001b[1;32m      4\u001b[0m                            'surface_areas_2', 'surface_areas_3', 'surface_areas_4']])\n\u001b[1;32m      5\u001b[0m \u001b[0;34m\u001b[0m\u001b[0m\n",
      "\u001b[0;31mIndexError\u001b[0m: only integers, slices (`:`), ellipsis (`...`), numpy.newaxis (`None`) and integer or boolean arrays are valid indices"
     ],
     "ename": "IndexError",
     "evalue": "only integers, slices (`:`), ellipsis (`...`), numpy.newaxis (`None`) and integer or boolean arrays are valid indices",
     "output_type": "error"
    }
   ],
   "source": [
    "perims = np.asarray(x_train_red[['outline_lengths_0', 'outline_lengths_1', \n",
    "                            'outline_lengths_2', 'outline_lengths_3', 'outline_lengths_4']])\n",
    "areas = np.asarray(x_train_red[['surface_areas_0', 'surface_areas_1', \n",
    "                           'surface_areas_2', 'surface_areas_3', 'surface_areas_4']])\n",
    "\n"
   ]
  },
  {
   "cell_type": "code",
   "execution_count": 6,
   "metadata": {
    "pycharm": {
     "is_executing": false,
     "name": "#%%\n"
    }
   },
   "outputs": [],
   "source": [
    "perims_orig = perims\n",
    "areas_orig = areas"
   ]
  },
  {
   "cell_type": "code",
   "execution_count": 7,
   "metadata": {
    "pycharm": {
     "is_executing": false,
     "name": "#%%\n"
    }
   },
   "outputs": [],
   "source": [
    "perims = perims.reshape(perims.shape[0]*perims.shape[1],1)\n",
    "areas = areas.reshape(areas.shape[0]*areas.shape[1],1)\n",
    "\n",
    "perims = min_max_scaler.fit_transform(perims)\n",
    "areas = min_max_scaler.fit_transform(areas)\n"
   ]
  },
  {
   "cell_type": "code",
   "execution_count": 8,
   "metadata": {
    "pycharm": {
     "is_executing": false,
     "name": "#%%\n"
    }
   },
   "outputs": [
    {
     "data": {
      "image/png": "[encoded data removed]",
      "text/plain": [
       "<Figure size 432x288 with 1 Axes>"
      ]
     },
     "metadata": {
      "needs_background": "light"
     },
     "output_type": "display_data"
    }
   ],
   "source": [
    "p = np.squeeze(perims)\n",
    "a = np.squeeze(areas)\n",
    "plt.scatter(p,a,marker=\"o\")\n",
    "plt.show()\n",
    "\n",
    "\n",
    "\n"
   ]
  },
  {
   "cell_type": "code",
   "execution_count": 9,
   "metadata": {
    "pycharm": {
     "is_executing": false,
     "name": "#%%\n"
    }
   },
   "outputs": [],
   "source": [
    "pa = np.empty((p.shape[0],2))\n",
    "pa[:,0] = p\n",
    "pa[:,1] = a"
   ]
  },
  {
   "cell_type": "code",
   "execution_count": 10,
   "metadata": {
    "pycharm": {
     "is_executing": false,
     "name": "#%%\n"
    }
   },
   "outputs": [
    {
     "data": {
      "image/png": "[encoded data removed]",
      "text/plain": [
       "<Figure size 432x288 with 1 Axes>"
      ]
     },
     "metadata": {
      "needs_background": "light"
     },
     "output_type": "display_data"
    }
   ],
   "source": [
    "plt.scatter(pa[:,0],pa[:,1],marker=\"o\")\n",
    "plt.show()\n",
    "\n"
   ]
  },
  {
   "cell_type": "code",
   "execution_count": 11,
   "metadata": {
    "pycharm": {
     "is_executing": false,
     "name": "#%%\n"
    }
   },
   "outputs": [],
   "source": [
    "from sklearn.mixture import BayesianGaussianMixture\n",
    "\n",
    "gmix = BayesianGaussianMixture(weight_concentration_prior_type=\"dirichlet_distribution\",\n",
    "                               covariance_type=\"tied\",\n",
    "                               #degrees_of_freedom_prior=1,\n",
    "                               init_params=\"random\").fit(pa)"
   ]
  },
  {
   "cell_type": "code",
   "execution_count": 12,
   "metadata": {
    "pycharm": {
     "is_executing": false,
     "name": "#%%\n"
    }
   },
   "outputs": [],
   "source": [
    "import itertools\n",
    "from scipy import linalg\n",
    "import matplotlib as mpl\n",
    "\n",
    "color_iter = itertools.cycle(['navy', 'c', 'cornflowerblue', 'gold',\n",
    "                              'darkorange'])\n",
    "\n",
    "def plot_results(X, Y, means, covariances, index, title):\n",
    "    splot = plt.subplot(5, 1, 1 + index)\n",
    "    fig = mpl.pyplot.gcf()\n",
    "    fig.set_size_inches(18.5, 10.5)\n",
    "    for i, (mean, covar, color) in enumerate(zip(\n",
    "            means, covariances, color_iter)):\n",
    "        v, w = linalg.eigh(covar)\n",
    "        v = 2. * np.sqrt(2.) * np.sqrt(v)\n",
    "        u = w[0] / linalg.norm(w[0])\n",
    "        # as the DP will not use every component it has access to\n",
    "        # unless it needs it, we shouldn't plot the redundant\n",
    "        # components.\n",
    "        if not np.any(Y == i):\n",
    "            continue\n",
    "        plt.scatter(X[Y == i, 0], X[Y == i, 1], .8, color=color)\n",
    "\n",
    "        # Plot an ellipse to show the Gaussian component\n",
    "        angle = np.arctan(u[1] / u[0])\n",
    "        angle = 180. * angle / np.pi  # convert to degrees\n",
    "        ell = mpl.patches.Ellipse(mean, v[0], v[1], 180. + angle, color=color)\n",
    "        ell.set_clip_box(splot.bbox)\n",
    "        ell.set_alpha(0.5)\n",
    "        splot.add_artist(ell)\n",
    "\n",
    " \n",
    "    plt.title(title)\n",
    "    plt.xticks(())\n",
    "    plt.yticks(())\n",
    "\n",
    "\n",
    "def plot_samples(X, Y, n_components, index, title):\n",
    "    plt.subplot(5, 1, 4 + index)\n",
    "    for i, color in zip(range(n_components), color_iter):\n",
    "        # as the DP will not use every component it has access to\n",
    "        # unless it needs it, we shouldn't plot the redundant\n",
    "        # components.\n",
    "        if not np.any(Y == i):\n",
    "            continue\n",
    "        plt.scatter(X[Y == i, 0], X[Y == i, 1], .8, color=color)\n",
    "\n",
    "    \n",
    "    plt.title(title)\n",
    "    plt.xticks(())\n",
    "    plt.yticks(())\n"
   ]
  },
  {
   "cell_type": "code",
   "execution_count": 13,
   "metadata": {
    "pycharm": {
     "is_executing": false,
     "name": "#%%\n"
    }
   },
   "outputs": [
    {
     "data": {
      "image/png": "[encoded data removed]",
      "text/plain": [
       "<Figure size 432x288 with 1 Axes>"
      ]
     },
     "metadata": {},
     "output_type": "display_data"
    }
   ],
   "source": [
    "X_s, y_s = gmix.sample(n_samples=1000)\n",
    "plot_samples(X_s, y_s, gmix.n_components, 1,\n",
    "             \"Gaussian mixture with a Dirichlet process prior \"\n",
    "             r\"for $\\gamma_0=100$ sampled with $2000$ samples.\")\n",
    "plt.show()"
   ]
  },
  {
   "cell_type": "code",
   "execution_count": 14,
   "metadata": {
    "pycharm": {
     "is_executing": false,
     "name": "#%%\n"
    }
   },
   "outputs": [
    {
     "data": {
      "image/png": "[encoded data removed]",
      "text/plain": [
       "<Figure size 432x288 with 1 Axes>"
      ]
     },
     "metadata": {
      "needs_background": "light"
     },
     "output_type": "display_data"
    }
   ],
   "source": [
    "plt.scatter(p,a)\n",
    "plt.scatter(X_s[:,0],X_s[:,1],marker=\"X\")\n",
    "plt.show()"
   ]
  },
  {
   "cell_type": "code",
   "execution_count": 15,
   "metadata": {
    "pycharm": {
     "is_executing": false,
     "name": "#%%\n"
    }
   },
   "outputs": [
    {
     "name": "stdout",
     "output_type": "stream",
     "text": [
      "{'covariance_prior': None, 'covariance_type': 'tied', 'degrees_of_freedom_prior': None, 'init_params': 'random', 'max_iter': 100, 'mean_precision_prior': None, 'mean_prior': None, 'n_components': 1, 'n_init': 1, 'random_state': None, 'reg_covar': 1e-06, 'tol': 0.001, 'verbose': 0, 'verbose_interval': 10, 'warm_start': False, 'weight_concentration_prior': None, 'weight_concentration_prior_type': 'dirichlet_distribution'}\n"
     ]
    }
   ],
   "source": [
    "params = gmix.get_params()\n",
    "print(params)"
   ]
  },
  {
   "cell_type": "code",
   "execution_count": 16,
   "metadata": {
    "pycharm": {
     "is_executing": false,
     "name": "#%%\n"
    }
   },
   "outputs": [
    {
     "name": "stdout",
     "output_type": "stream",
     "text": [
      "[1039361.]\n"
     ]
    }
   ],
   "source": [
    "dd = gmix.weight_concentration_\n",
    "print(dd)"
   ]
  },
  {
   "cell_type": "code",
   "execution_count": 17,
   "metadata": {},
   "outputs": [],
   "source": [
    "rand_perim = scipy.stats.dirichlet.rvs([10,10,10,10,10], size=100, random_state=1)\n",
    "rand_area = scipy.stats.dirichlet.rvs([10,10,10,10,10], size=100, random_state=1)\n",
    "\n",
    "\n"
   ]
  },
  {
   "cell_type": "code",
   "execution_count": 18,
   "metadata": {
    "pycharm": {
     "is_executing": false,
     "name": "#%%\n"
    }
   },
   "outputs": [],
   "source": [
    "\n",
    "from scipy.stats import norm\n",
    "\n",
    "\n",
    "# Generate some data for this demonstration.\n",
    "\n",
    "# Fit a normal distribution to the data:\n",
    "mu_p, std_p = norm.fit(total_area_perim[:,1])\n",
    "mean_p = np.mean(perims, axis=0)\n",
    "cov_p = np.cov(perims, rowvar=0)\n",
    "\n",
    "mu_a, std_a = norm.fit(total_area_perim[:,0])\n",
    "mean_a = np.mean(areas, axis=0)\n",
    "cov_a = np.cov(areas, rowvar=0)\n",
    "# Plot the histogram.\n",
    "#plt.hist(x_train_red[:,0], bins=25, density=True, alpha=0.6, color='g')\n",
    "#plt.hist(x_train_red[:,1], bins=25, density=True, alpha=0.6, color='b')\n",
    "\n"
   ]
  },
  {
   "cell_type": "code",
   "execution_count": 19,
   "metadata": {
    "pycharm": {
     "is_executing": false,
     "name": "#%%\n"
    }
   },
   "outputs": [],
   "source": [
    "desired_perims = np.random.normal(loc=mu_p,scale=std_p,size=100)\n",
    "desired_areas = np.random.normal(loc=mu_a,scale=std_a,size=100)\n",
    "tot = np.empty((100,2))\n",
    "tot[:,0] = desired_areas\n",
    "tot[:,1] = desired_perims"
   ]
  },
  {
   "cell_type": "code",
   "execution_count": 20,
   "metadata": {},
   "outputs": [
    {
     "name": "stdout",
     "output_type": "stream",
     "text": [
      "[0.02973629 0.56330676 0.00745288 0.01668036 0.00109832]\n",
      "0.6182746114308046\n",
      "0.6182955584895454\n"
     ]
    }
   ],
   "source": [
    "dp = desired_perims[0]\n",
    "first_four = gmix.sample(n_samples=1)[0][:,1]   \n",
    "s = 0\n",
    "count = 0\n",
    "platforms_perims = np.empty((5))\n",
    "while s != (dp-0.00001) and count < 5:\n",
    "    val = gmix.sample(n_samples=1)[0][:,1]  \n",
    "    if val > 0:\n",
    "        if s+val < dp:\n",
    "            s += val\n",
    "            platforms_perims[count] = val\n",
    "            count += 1\n",
    "        \n",
    "print(platforms_perims)\n",
    "print(np.sum(platforms_perims))\n",
    "print(dp)\n",
    "\n"
   ]
  },
  {
   "cell_type": "code",
   "execution_count": null,
   "metadata": {},
   "outputs": [],
   "source": [
    "da = desired_areas[0]\n",
    "platforms_areas = np.empty((5))\n",
    "s = 0\n",
    "count = 0\n",
    "while s != (da-0.00001) and count < 5:\n",
    "    val = gmix.sample(n_samples=1)[0][:,0]  \n",
    "    if val > 0:\n",
    "        if s+val < da:\n",
    "            s += val\n",
    "            platforms_areas[count] = val\n",
    "            count += 1\n",
    "\n",
    "\n",
    "\n",
    "\n",
    "print(platforms_areas)\n",
    "print(np.sum(platforms_areas))\n",
    "print(da)\n",
    "\n"
   ]
  },
  {
   "cell_type": "code",
   "execution_count": null,
   "metadata": {},
   "outputs": [],
   "source": [
    "#perim_sam1 = desired_perims[0]\n",
    "#area_sam1 = desired_areas[0]\n",
    "areas_res = np.empty((100,5))\n",
    "perims_res = np.empty((100,5))\n",
    "for i in range(100):\n",
    "    areas_res[i,:] = tot[i,0] *rand_area[i,:]\n",
    "    perims_res[i,:] = tot[i,1] * rand_perim[i,:]\n"
   ]
  },
  {
   "cell_type": "code",
   "execution_count": null,
   "metadata": {},
   "outputs": [],
   "source": [
    "shit = np.empty((100,5))\n",
    "shit2 = np.empty((100,5))\n",
    "for i in range(100):\n",
    "    \n",
    "    rand_areas_perims = gmix.sample(n_samples=5)[0]\n",
    "    shit[i,:] = rand_areas_perims[:,0]#/np.sum(rand_areas_perims[:,0])\n",
    "    shit2[i,:] = rand_areas_perims[:,1]#/np.sum(rand_areas_perims[:,1])"
   ]
  },
  {
   "cell_type": "code",
   "execution_count": null,
   "metadata": {
    "pycharm": {
     "is_executing": true,
     "name": "#%%\n"
    }
   },
   "outputs": [],
   "source": [
    "p = np.squeeze(perims)\n",
    "a = np.squeeze(areas)\n",
    "plt.scatter(p,a,marker=\"o\")\n",
    "plt.scatter(platforms_perims,platforms_areas,marker=\"x\")\n",
    "plt.show()\n",
    "\n",
    "\n"
   ]
  },
  {
   "cell_type": "code",
   "execution_count": 30,
   "metadata": {
    "pycharm": {
     "is_executing": false,
     "name": "#%%\n"
    }
   },
   "outputs": [],
   "source": [
    "# scale radii\n",
    "w_ = w_train_red\n",
    "all_inds = np.arange(0,w_.shape[1])\n",
    "xy_ind = list(chain.from_iterable((i, i + 1) for i in range(0, 50, 10)))\n",
    "h_ind = [50, 52, 51]\n",
    "xyh_inds = xy_ind+h_ind\n",
    "\n",
    "rad_ind = np.setdiff1d(all_inds,xyh_inds)\n",
    "\n",
    "scale_values = np.random.uniform(low=0.5,high=2.0,size=(w_.shape[0],rad_ind.size))\n",
    "\n",
    "w_[:,rad_ind] *= scale_values "
   ]
  },
  {
   "cell_type": "code",
   "execution_count": 33,
   "metadata": {
    "pycharm": {
     "is_executing": false,
     "name": "#%%\n"
    }
   },
   "outputs": [],
   "source": [
    "rand_perim = scipy.stats.dirichlet.rvs([12,12,12,12,12], size=1, random_state=1)\n",
    "rand_area = scipy.stats.dirichlet.rvs([12,12,12,12,12], size=1, random_state=1)\n",
    "\n",
    "\n"
   ]
  },
  {
   "cell_type": "code",
   "execution_count": 34,
   "metadata": {
    "pycharm": {
     "is_executing": false,
     "name": "#%%\n"
    }
   },
   "outputs": [],
   "source": [
    "from scipy.stats import norm\n",
    "\n",
    "\n",
    "# Generate some data for this demonstration.\n",
    "\n",
    "# Fit a normal distribution to the data:\n",
    "mu_p, std_p = norm.fit(total_area_perim[:,1])\n",
    "mean_p = np.mean(perims, axis=0)\n",
    "cov_p = np.cov(perims, rowvar=0)\n",
    "\n",
    "mu_a, std_a = norm.fit(total_area_perim[:,0])\n",
    "mean_a = np.mean(areas, axis=0)\n",
    "cov_a = np.cov(areas, rowvar=0)\n",
    "# Plot the histogram.\n",
    "#plt.hist(x_train_red[:,0], bins=25, density=True, alpha=0.6, color='g')\n",
    "#plt.hist(x_train_red[:,1], bins=25, density=True, alpha=0.6, color='b')\n",
    "\n"
   ]
  },
  {
   "cell_type": "code",
   "execution_count": 35,
   "metadata": {
    "pycharm": {
     "is_executing": false,
     "name": "#%%\n"
    }
   },
   "outputs": [],
   "source": [
    "desired_perims = np.random.normal(loc=mu_p,scale=std_p,size=1)\n",
    "desired_areas = np.random.normal(loc=mu_a,scale=std_a,size=1)"
   ]
  },
  {
   "cell_type": "code",
   "execution_count": 36,
   "metadata": {
    "pycharm": {
     "is_executing": false,
     "name": "#%%\n"
    }
   },
   "outputs": [],
   "source": [
    "dir_areas = desired_areas*rand_area\n",
    "dir_perim = desired_perims*rand_perim"
   ]
  },
  {
   "cell_type": "code",
   "execution_count": 37,
   "metadata": {
    "pycharm": {
     "is_executing": false,
     "name": "#%%\n"
    }
   },
   "outputs": [
    {
     "data": {
      "image/png": "[encoded data removed]",
      "text/plain": [
       "<Figure size 432x288 with 1 Axes>"
      ]
     },
     "metadata": {
      "needs_background": "light"
     },
     "output_type": "display_data"
    }
   ],
   "source": [
    "p = np.squeeze(perims)\n",
    "a = np.squeeze(areas)\n",
    "plt.scatter(p,a)\n",
    "plt.scatter(dir_perim,dir_areas,marker=\"X\")\n",
    "plt.show()"
   ]
  },
  {
   "cell_type": "code",
   "execution_count": 10,
   "metadata": {
    "pycharm": {
     "is_executing": false,
     "name": "#%%\n"
    }
   },
   "outputs": [
    {
     "name": "stdout",
     "output_type": "stream",
     "text": [
      "623616\n"
     ]
    }
   ],
   "source": [
    "fix_height_inds = list(chain.from_iterable((i+1, i + 2,i+3) for i in range(0, w_xyrad.shape[0], 5)))\n",
    "lower_height_inds = [i for i in range(0, w_xyrad.shape[0], 5)]\n",
    "upper_height_inds = [i+4 for i in range(0, w_xyrad.shape[0], 5)]\n",
    "\n",
    "\n",
    "print(len(fix_height_inds))"
   ]
  },
  {
   "cell_type": "code",
   "execution_count": 11,
   "metadata": {
    "pycharm": {
     "is_executing": false,
     "name": "#%%\n"
    }
   },
   "outputs": [],
   "source": [
    "platforms = np.empty((w_xyrad.shape[0],11))\n",
    "platforms[:,:2] = w_xyrad[:,:2]\n",
    "platforms[:,3:] = w_xyrad[:,2:]\n",
    "platforms[lower_height_inds,2] = 4.5\n",
    "platforms[upper_height_inds,2] = 19\n",
    "platforms[fix_height_inds,2] = np.squeeze(w_heights)"
   ]
  },
  {
   "cell_type": "code",
   "execution_count": 12,
   "metadata": {
    "pycharm": {
     "is_executing": false,
     "name": "#%%\n"
    }
   },
   "outputs": [],
   "source": [
    "xyz = platforms[:,:3]\n",
    "mean = np.mean(xyz, axis=0)\n",
    "cov = np.cov(xyz, rowvar=0)\n",
    "\n"
   ]
  },
  {
   "cell_type": "code",
   "execution_count": 13,
   "metadata": {
    "pycharm": {
     "is_executing": false,
     "name": "#%%\n"
    }
   },
   "outputs": [],
   "source": [
    "\n",
    "platforms_perim_area = np.empty((platforms.shape[0],platforms.shape[1]+2-3))\n",
    "platforms_perim_area[:,:-2] = platforms[:,3:]\n",
    "platforms_perim_area[:,-2] = np.squeeze(perims)\n",
    "platforms_perim_area[:,-1] = np.squeeze(areas)\n",
    "\n",
    "# take a subset to test\n",
    "small = platforms_perim_area[:1000,:]\n"
   ]
  },
  {
   "cell_type": "code",
   "execution_count": null,
   "metadata": {
    "pycharm": {
     "is_executing": true,
     "name": "#%%\n"
    }
   },
   "outputs": [],
   "source": [
    "from pomegranate import BayesianNetwork\n",
    "\n",
    "model = BayesianNetwork.from_samples(small, algorithm='exact')\n",
    "print(model.structure)"
   ]
  },
  {
   "cell_type": "code",
   "execution_count": null,
   "metadata": {
    "pycharm": {
     "is_executing": true,
     "name": "#%%\n"
    }
   },
   "outputs": [],
   "source": [
    "model.plot()"
   ]
  },
  {
   "cell_type": "code",
   "execution_count": 21,
   "metadata": {
    "pycharm": {
     "is_executing": false,
     "name": "#%%\n"
    }
   },
   "outputs": [],
   "source": [
    "#needs to be normalized duh\n",
    "nareas = normalize(areas)\n",
    "nperims = normalize(perims)\n",
    "ratio = (areas/perims**2)"
   ]
  },
  {
   "cell_type": "code",
   "execution_count": 22,
   "metadata": {
    "pycharm": {
     "is_executing": false,
     "name": "#%%\n"
    }
   },
   "outputs": [
    {
     "name": "stdout",
     "output_type": "stream",
     "text": [
      "[[0.28700923 0.14465838 0.14886033 0.12288716 0.29658489]]\n"
     ]
    }
   ],
   "source": [
    "rand_perim = scipy.stats.dirichlet.rvs([10,10,10,10,10], size=1, random_state=1)\n",
    "rand_area = scipy.stats.dirichlet.rvs([10,10,10,10,10], size=1, random_state=1)\n",
    "\n",
    "print(rand_perim)"
   ]
  },
  {
   "cell_type": "code",
   "execution_count": 23,
   "metadata": {
    "pycharm": {
     "is_executing": false,
     "name": "#%%\n"
    }
   },
   "outputs": [
    {
     "name": "stdout",
     "output_type": "stream",
     "text": [
      "[[0.07642656]\n",
      " [0.06833948]\n",
      " [0.06680996]\n",
      " ...\n",
      " [0.06147886]\n",
      " [0.05811824]\n",
      " [0.07732989]]\n"
     ]
    }
   ],
   "source": [
    "print(ratio)"
   ]
  },
  {
   "cell_type": "code",
   "execution_count": 24,
   "metadata": {
    "pycharm": {
     "is_executing": false,
     "name": "#%%\n"
    }
   },
   "outputs": [
    {
     "name": "stdout",
     "output_type": "stream",
     "text": [
      "[3.48420852 6.91283838 6.71770627 8.13754645 3.37171589]\n",
      "[176900 176900 176900 176900 176900]\n",
      "[3.40466578 6.83329565 6.63816354 8.05800372 3.29217316]\n"
     ]
    },
    {
     "data": {
      "text/plain": [
       "'\\nindices = []\\nvals = []\\nfor t in target_rat:\\n    idx = np.abs(t-ratio).argmin()\\n    val = np.abs(t-ratio).min()\\n    indices.append(idx)\\n    vals.append(val)\\nprint(indices)\\nprint(vals)\\n# pick those platforms \\n'"
      ]
     },
     "execution_count": 24,
     "metadata": {},
     "output_type": "execute_result"
    }
   ],
   "source": [
    "target_rat = np.squeeze(rand_area/rand_perim**2)\n",
    "idx = np.abs(target_rat-ratio).argmin(axis=0)\n",
    "val = np.abs(target_rat-ratio).min(axis=0)\n",
    "print(idx)\n",
    "print(val)\n",
    "\"\"\"\n",
    "indices = []\n",
    "vals = []\n",
    "for t in target_rat:\n",
    "    idx = np.abs(t-ratio).argmin()\n",
    "    val = np.abs(t-ratio).min()\n",
    "    indices.append(idx)\n",
    "    vals.append(val)\n",
    "print(indices)\n",
    "print(vals)\n",
    "# pick those platforms \n",
    "\"\"\""
   ]
  },
  {
   "cell_type": "code",
   "execution_count": null,
   "metadata": {
    "pycharm": {
     "is_executing": true,
     "name": "#%%\n"
    }
   },
   "outputs": [],
   "source": [
    "from sklearn.decomposition import LatentDirichletAllocation as lda\n",
    "\n",
    "# data generating process: go from ratio to 8 radii\n",
    "ll = lda(n_components=5)\n",
    "ll.fit(perims)"
   ]
  },
  {
   "cell_type": "code",
   "execution_count": null,
   "metadata": {
    "pycharm": {
     "is_executing": true,
     "name": "#%%\n"
    }
   },
   "outputs": [],
   "source": [
    "x =ll.transform(rand_perim)\n",
    "print(x)"
   ]
  },
  {
   "cell_type": "code",
   "execution_count": null,
   "metadata": {
    "pycharm": {
     "name": "#%%\n"
    }
   },
   "outputs": [],
   "source": [
    "\n"
   ]
  }
 ],
 "metadata": {
  "kernelspec": {
   "display_name": "Python 3",
   "language": "python",
   "name": "python3"
  },
  "language_info": {
   "codemirror_mode": {
    "name": "ipython",
    "version": 3
   },
   "file_extension": ".py",
   "mimetype": "text/x-python",
   "name": "python",
   "nbconvert_exporter": "python",
   "pygments_lexer": "ipython3",
   "version": "3.7.4"
  },
  "pycharm": {
   "stem_cell": {
    "cell_type": "raw",
    "source": [],
    "metadata": {
     "collapsed": false
    }
   }
  }
 },
 "nbformat": 4,
 "nbformat_minor": 1
}