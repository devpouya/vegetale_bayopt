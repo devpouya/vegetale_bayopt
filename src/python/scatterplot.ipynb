{
 "cells": [
  {
   "cell_type": "code",
   "execution_count": 1,
   "metadata": {
    "collapsed": true,
    "pycharm": {
     "is_executing": false
    }
   },
   "outputs": [],
   "source": [
    "import numpy as np\n",
    "import matplotlib.pyplot as plt\n",
    "import os, sys\n",
    "import pickle as pk\n",
    "import time\n",
    "import pandas as pd\n",
    "\n",
    "import utils as ut\n",
    "import time\n",
    "import math\n",
    "import copy\n",
    "from sklearn.preprocessing import normalize\n",
    "from itertools import chain\n",
    "from GPyOpt.methods import BayesianOptimization\n",
    "import scipy\n",
    "from functools import partial"
   ]
  },
  {
   "cell_type": "code",
   "execution_count": 2,
   "outputs": [
    {
     "name": "stdout",
     "text": [
      "['cantilever_max', 'occlusion_sun', 'outline_lengths_0', 'outline_lengths_1', 'outline_lengths_2', 'outline_lengths_3', 'outline_lengths_4', 'surface_area_total', 'buildable', 'surface_areas_0', 'surface_areas_1', 'surface_areas_2', 'surface_areas_3', 'surface_areas_4', 'outline_length_total', 'supports_count', 'outlines_bleps', 'occlusion_rain', 'parcel_intersection', 'supports_problems', 'columns_max_length']\nNo nans! ¯\\_(ツ)_/¯\n"
     ],
     "output_type": "stream"
    }
   ],
   "source": [
    "# constants\n",
    "# rhino uv nurbs +1 (even numbers required?\n",
    "u = 8 #u = number of points\n",
    "v = 5 #v = number of platforms\n",
    "#f_experiment = '200616'\n",
    "curr_dir_repo = os.getcwd().split('/src/python')[0]\n",
    "dataset_dir = curr_dir_repo + '/data/' #+ f_experiment\n",
    "results_dir = curr_dir_repo + '/results/' #+ f_experiment\n",
    "\n",
    "fn_attr_ranges = 'ranges_attrib.pkl'\n",
    "\n",
    "###\n",
    "# THE NOTATION IS\n",
    "# W for geometries: the points, either on xyz or polar, for each of the platforms\n",
    "# X for desing attributes: final desired characteristics, like rain occlusion,\n",
    "# sun occlusion, surface, etc.\n",
    "\n",
    "flag_polar = True\n",
    "\n",
    "fname = os.path.join(dataset_dir, 'data_labels_all_200706.pkl')\n",
    "list_all_dicts = pk.load(open(fname, 'rb'))\n",
    "\n",
    "# %%\n",
    "\n",
    "flag_GH_xyz_polar = 0\n",
    "flag_out_xyz_polar = 0\n",
    "if flag_polar:\n",
    "    flag_GH_xyz_polar = 1\n",
    "    flag_out_xyz_polar = 1\n",
    "\n",
    "w_train_red, bottom_top_heights = ut.gh_to_script(list_all_dicts, v, u, flag_GH_xyz_polar=flag_GH_xyz_polar,\n",
    "                                                  flag_out_xyz_polar=flag_out_xyz_polar)\n",
    "\n",
    "# %%\n",
    "# Import and preprocess y_train: design attributes\n",
    "\n",
    "\n",
    "# Attributes to use\n",
    "list_attrib = ['occlusion_rain', 'occlusion_sun',\n",
    "               'outline_lengths_0', 'outline_lengths_1', 'outline_lengths_2', 'outline_lengths_3', 'outline_lengths_4',\n",
    "               'surface_areas_0', 'surface_areas_1', 'surface_areas_2', 'surface_areas_3', 'surface_areas_4']\n",
    "x_train = ut.ghlabels_to_script(list_all_dicts, list_attrib, flag_all_df=True)\n",
    "\n",
    "all_attributes = list(x_train.columns)\n",
    "print(all_attributes)\n",
    "\n",
    "\n",
    "num_attr = len(list_attrib) # number of attributes selected for training\n",
    "\n",
    "#print(\"Attributes\",list_attrib)\n",
    "\n",
    "x_train_red = np.asarray(x_train[list_attrib])\n",
    "\n",
    "w_nans, ind_not_nanw = ut.check_rows_nan(w_train_red)\n",
    "x_nans, ind_not_nanx = ut.check_rows_nan(x_train_red)\n",
    "\n",
    "if len(np.union1d(w_nans, x_nans)):\n",
    "    ind_not_nan = np.intersect1d(ind_not_nanw, ind_not_nanx)\n",
    "    print('Reducing samples from {} to {}'.format(len(w_train_red), len(ind_not_nan)))\n",
    "    w_train_red = w_train_red[ind_not_nan, :]\n",
    "    x_train_red = x_train_red[ind_not_nan, :]\n",
    "else:\n",
    "    print('No nans! ¯\\_(ツ)_/¯')\n",
    "\n",
    "\n",
    "data_dir_loop = '/Users/pouya/vegetale_bayopt'\n",
    "str_save = 'It1'\n",
    "flag_save_files = True\n",
    "max_time = 3600\n",
    "output_attrib = ['occlusion_rain', 'occlusion_sun']\n"
   ],
   "metadata": {
    "collapsed": false,
    "pycharm": {
     "name": "#%%\n",
     "is_executing": false
    }
   }
  },
  {
   "cell_type": "code",
   "execution_count": null,
   "outputs": [],
   "source": [
    "\n"
   ],
   "metadata": {
    "collapsed": false,
    "pycharm": {
     "name": "#%%\n"
    }
   }
  }
 ],
 "metadata": {
  "kernelspec": {
   "display_name": "Python 3",
   "language": "python",
   "name": "python3"
  },
  "language_info": {
   "codemirror_mode": {
    "name": "ipython",
    "version": 2
   },
   "file_extension": ".py",
   "mimetype": "text/x-python",
   "name": "python",
   "nbconvert_exporter": "python",
   "pygments_lexer": "ipython2",
   "version": "2.7.6"
  },
  "pycharm": {
   "stem_cell": {
    "cell_type": "raw",
    "source": [],
    "metadata": {
     "collapsed": false
    }
   }
  }
 },
 "nbformat": 4,
 "nbformat_minor": 0
}